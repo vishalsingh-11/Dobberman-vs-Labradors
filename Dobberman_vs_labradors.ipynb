{
  "cells": [
    {
      "cell_type": "markdown",
      "id": "9cd99a55",
      "metadata": {
        "id": "9cd99a55"
      },
      "source": [
        "# Group Assignment 2\n",
        "\n",
        "##### Nevin Baiju\n",
        "##### Bondili Ram Vishal Singh\n"
      ]
    },
    {
      "cell_type": "markdown",
      "id": "1bef02f1",
      "metadata": {
        "id": "1bef02f1"
      },
      "source": [
        "## Library imports"
      ]
    },
    {
      "cell_type": "code",
      "execution_count": null,
      "id": "2467ead6",
      "metadata": {
        "id": "2467ead6"
      },
      "outputs": [],
      "source": [
        "import os, shutil, pathlib\n",
        "\n",
        "from tensorflow import keras\n",
        "from tensorflow.keras import layers\n",
        "from tensorflow.keras.utils import image_dataset_from_directory\n",
        "\n",
        "import matplotlib.pyplot as plt\n",
        "import numpy as np"
      ]
    },
    {
      "cell_type": "markdown",
      "id": "c8da4c88",
      "metadata": {
        "id": "c8da4c88"
      },
      "source": [
        "## Data exploration"
      ]
    },
    {
      "cell_type": "markdown",
      "id": "bd18970d",
      "metadata": {
        "id": "bd18970d"
      },
      "source": [
        "## Methodology\n",
        "\n",
        "In this experiment, we will be using a bigger dataset with similar characteristics to build a good model and then use that model as a feature extractor to train an ANN to predict our classes.\n",
        "\n",
        "Since our problem statement corresponds to dogs, we have decided to select the dogs vs cats dataset which is large enough to train a CNN with good generalization and that will serve as a good feature extractor as it is able to extract the features of a dog. "
      ]
    },
    {
      "cell_type": "markdown",
      "id": "32b58c1d",
      "metadata": {
        "id": "32b58c1d"
      },
      "source": [
        "### Building the cats vs dogs model\n",
        "\n",
        "We are using the VGG-16 model to build the model that classifies if its a cat or a dog."
      ]
    },
    {
      "cell_type": "markdown",
      "id": "42a1d805",
      "metadata": {
        "id": "42a1d805"
      },
      "source": [
        "####  Dowloading the data from Kaggle"
      ]
    },
    {
      "cell_type": "code",
      "execution_count": null,
      "id": "1f39bc8e",
      "metadata": {
        "id": "1f39bc8e"
      },
      "outputs": [],
      "source": [
        "from google.colab import files\n",
        "files.upload()"
      ]
    },
    {
      "cell_type": "code",
      "execution_count": null,
      "id": "8aa51b40",
      "metadata": {
        "id": "8aa51b40"
      },
      "outputs": [],
      "source": [
        "!mkdir ~/.kaggle\n",
        "!cp kaggle.json ~/.kaggle/\n",
        "!chmod 600 ~/.kaggle/kaggle.json"
      ]
    },
    {
      "cell_type": "code",
      "execution_count": null,
      "id": "9cc1a0f9",
      "metadata": {
        "id": "9cc1a0f9"
      },
      "outputs": [],
      "source": [
        "!kaggle competitions download -c dogs-vs-cats"
      ]
    },
    {
      "cell_type": "code",
      "execution_count": null,
      "id": "3974339e",
      "metadata": {
        "id": "3974339e"
      },
      "outputs": [],
      "source": [
        "!unzip -qq dogs-vs-cats.zip\n",
        "!unzip -qq train.zip"
      ]
    },
    {
      "cell_type": "markdown",
      "id": "b3523f27",
      "metadata": {
        "id": "b3523f27"
      },
      "source": [
        "#### Preparing the data"
      ]
    },
    {
      "cell_type": "markdown",
      "id": "b2836f87",
      "metadata": {
        "id": "b2836f87"
      },
      "source": [
        "Moving them into different folders for train, test, validation for different classes"
      ]
    },
    {
      "cell_type": "code",
      "execution_count": null,
      "id": "76efb06b",
      "metadata": {
        "id": "76efb06b"
      },
      "outputs": [],
      "source": [
        "original_dir = pathlib.Path(\"train\")\n",
        "new_base_dir = pathlib.Path(\"cats_vs_dogs_small\")\n",
        "\n",
        "def make_subset(subset_name, start_index, end_index):\n",
        "    for category in (\"cat\", \"dog\"):\n",
        "        dir = new_base_dir / subset_name / category\n",
        "        os.makedirs(dir)\n",
        "        fnames = [f\"{category}.{i}.jpg\" for i in range(start_index, end_index)]\n",
        "        for fname in fnames:\n",
        "            shutil.copyfile(src=original_dir / fname,\n",
        "                            dst=dir / fname)\n",
        "\n",
        "make_subset(\"train\", start_index=0, end_index=9000)\n",
        "make_subset(\"validation\", start_index=9000, end_index=10000)\n",
        "make_subset(\"test\", start_index=10000, end_index=12500)"
      ]
    },
    {
      "cell_type": "markdown",
      "id": "9be71ce1",
      "metadata": {
        "id": "9be71ce1"
      },
      "source": [
        "Loading the dataset using the image_dataset_from_directory"
      ]
    },
    {
      "cell_type": "code",
      "execution_count": null,
      "id": "8a2088cc",
      "metadata": {
        "id": "8a2088cc"
      },
      "outputs": [],
      "source": [
        "from tensorflow.keras.utils import image_dataset_from_directory\n",
        "\n",
        "train_dataset = image_dataset_from_directory(\n",
        "    new_base_dir / \"train\",\n",
        "    image_size=(180, 180),\n",
        "    batch_size=32)\n",
        "validation_dataset = image_dataset_from_directory(\n",
        "    new_base_dir / \"validation\",\n",
        "    image_size=(180, 180),\n",
        "    batch_size=32)\n",
        "test_dataset = image_dataset_from_directory(\n",
        "    new_base_dir / \"test\",\n",
        "    image_size=(180, 180),\n",
        "    batch_size=32)"
      ]
    },
    {
      "cell_type": "markdown",
      "id": "80c61207",
      "metadata": {
        "id": "80c61207"
      },
      "source": [
        "#### Building the model"
      ]
    },
    {
      "cell_type": "markdown",
      "id": "99c78376",
      "metadata": {
        "id": "99c78376"
      },
      "source": [
        "Defining data augmentations"
      ]
    },
    {
      "cell_type": "code",
      "execution_count": null,
      "id": "3bb53c14",
      "metadata": {
        "id": "3bb53c14"
      },
      "outputs": [],
      "source": [
        "data_augmentation = keras.Sequential(\n",
        "    [\n",
        "        layers.RandomFlip(\"horizontal\"),\n",
        "        layers.RandomRotation(0.1),\n",
        "        layers.RandomZoom(0.2),\n",
        "    ]\n",
        ")"
      ]
    },
    {
      "cell_type": "markdown",
      "id": "a8fa83da",
      "metadata": {
        "id": "a8fa83da"
      },
      "source": [
        "##### Defining the network"
      ]
    },
    {
      "cell_type": "markdown",
      "id": "09500ab2",
      "metadata": {
        "id": "09500ab2"
      },
      "source": [
        "Using the VGG-16 from keras"
      ]
    },
    {
      "cell_type": "code",
      "execution_count": null,
      "id": "15a91e88",
      "metadata": {
        "id": "15a91e88"
      },
      "outputs": [],
      "source": [
        "conv_base = keras.applications.vgg16.VGG16(\n",
        "    weights=\"imagenet\",\n",
        "    include_top=False,\n",
        "    input_shape=(180, 180, 3))"
      ]
    },
    {
      "cell_type": "markdown",
      "id": "f1a69f3b",
      "metadata": {
        "id": "f1a69f3b"
      },
      "source": [
        "Defining the final model with the ANN layers"
      ]
    },
    {
      "cell_type": "code",
      "execution_count": null,
      "id": "bc76716f",
      "metadata": {
        "id": "bc76716f"
      },
      "outputs": [],
      "source": [
        "inputs = keras.Input(shape=(180, 180, 3))\n",
        "x = data_augmentation(inputs)\n",
        "x = keras.applications.vgg16.preprocess_input(x)\n",
        "x = conv_base(x)\n",
        "x = layers.Flatten()(x)\n",
        "x = layers.Dense(256)(x)\n",
        "x = layers.Dropout(0.5)(x)\n",
        "outputs = layers.Dense(1, activation=\"sigmoid\")(x)\n",
        "model = keras.Model(inputs, outputs)\n",
        "model.compile(loss=\"binary_crossentropy\",\n",
        "              optimizer=\"rmsprop\",\n",
        "              metrics=[\"accuracy\"])"
      ]
    },
    {
      "cell_type": "markdown",
      "id": "0572663d",
      "metadata": {
        "id": "0572663d"
      },
      "source": [
        "Freezing all layers except the last 4 convolutional layers for training"
      ]
    },
    {
      "cell_type": "code",
      "execution_count": null,
      "id": "c092f62d",
      "metadata": {
        "id": "c092f62d"
      },
      "outputs": [],
      "source": [
        "conv_base.trainable = True\n",
        "for layer in conv_base.layers[:-4]:\n",
        "    layer.trainable = False"
      ]
    },
    {
      "cell_type": "markdown",
      "id": "f7777c04",
      "metadata": {
        "id": "f7777c04"
      },
      "source": [
        "Training the model"
      ]
    },
    {
      "cell_type": "code",
      "execution_count": null,
      "id": "532d55d9",
      "metadata": {
        "id": "532d55d9"
      },
      "outputs": [],
      "source": [
        "model.compile(loss=\"binary_crossentropy\",\n",
        "              optimizer=keras.optimizers.RMSprop(learning_rate=1e-5),\n",
        "              metrics=[\"accuracy\"])\n",
        "\n",
        "callbacks = [\n",
        "    keras.callbacks.ModelCheckpoint(\n",
        "        filepath=\"dogs_vs_cats.keras\",\n",
        "        save_best_only=True,\n",
        "        monitor=\"val_loss\")\n",
        "]\n",
        "history = model.fit(\n",
        "    train_dataset,\n",
        "    epochs=30,\n",
        "    validation_data=validation_dataset,\n",
        "    callbacks=callbacks)"
      ]
    },
    {
      "cell_type": "markdown",
      "id": "1e8ef4ae",
      "metadata": {
        "id": "1e8ef4ae"
      },
      "source": [
        "Testing the model"
      ]
    },
    {
      "cell_type": "code",
      "execution_count": null,
      "id": "0ccf3adc",
      "metadata": {
        "id": "0ccf3adc"
      },
      "outputs": [],
      "source": [
        "model = keras.models.load_model(\"dogs_vs_cats.keras\")\n",
        "test_loss, test_acc = model.evaluate(test_dataset)\n",
        "print(f\"Test accuracy: {test_acc:.3f}\")"
      ]
    },
    {
      "cell_type": "code",
      "execution_count": null,
      "id": "34b6739a",
      "metadata": {
        "id": "34b6739a"
      },
      "outputs": [],
      "source": [
        "files.download('dogs_vs_cats.keras')"
      ]
    },
    {
      "cell_type": "markdown",
      "id": "9bc881ae",
      "metadata": {
        "id": "9bc881ae"
      },
      "source": [
        "### Building the labrador vs doberman model"
      ]
    },
    {
      "cell_type": "code",
      "execution_count": null,
      "id": "ef554650",
      "metadata": {
        "id": "ef554650",
        "outputId": "c4247be0-d6f0-4ac6-b45c-c5c1cdfde777"
      },
      "outputs": [
        {
          "name": "stdout",
          "output_type": "stream",
          "text": [
            "Found 100 files belonging to 2 classes.\n",
            "Found 388 files belonging to 2 classes.\n",
            "Using 311 files for training.\n",
            "Using 77 files for validation.\n"
          ]
        }
      ],
      "source": [
        "test_dataset = image_dataset_from_directory(\n",
        "    \"test_data/\",\n",
        "    image_size=(180, 180),\n",
        "    seed=42,\n",
        "    batch_size=32)\n",
        "train_dataset, validation_dataset = image_dataset_from_directory(\n",
        "    \"custom_dataset/\",\n",
        "    image_size=(180, 180),\n",
        "    subset='both',\n",
        "    seed=42,\n",
        "    validation_split=0.2,\n",
        "    batch_size=32)"
      ]
    },
    {
      "cell_type": "markdown",
      "id": "e489547a",
      "metadata": {
        "id": "e489547a"
      },
      "source": [
        "Loading the cats vs dogs model we created earlier"
      ]
    },
    {
      "cell_type": "code",
      "execution_count": null,
      "id": "d75c3454",
      "metadata": {
        "id": "d75c3454"
      },
      "outputs": [],
      "source": [
        "model = keras.models.load_model('cats_vs_dogs_vgg.keras')"
      ]
    },
    {
      "cell_type": "code",
      "execution_count": null,
      "id": "6951523c",
      "metadata": {
        "id": "6951523c",
        "outputId": "a192f988-43ba-4a59-ec45-a23a6eb31625"
      },
      "outputs": [
        {
          "name": "stdout",
          "output_type": "stream",
          "text": [
            "Model: \"model\"\n",
            "_________________________________________________________________\n",
            " Layer (type)                Output Shape              Param #   \n",
            "=================================================================\n",
            " input_2 (InputLayer)        [(None, 180, 180, 3)]     0         \n",
            "                                                                 \n",
            " sequential_1 (Sequential)   (None, 180, 180, 3)       0         \n",
            "                                                                 \n",
            " tf.__operators__.getitem (S  (None, 180, 180, 3)      0         \n",
            " licingOpLambda)                                                 \n",
            "                                                                 \n",
            " tf.nn.bias_add (TFOpLambda)  (None, 180, 180, 3)      0         \n",
            "                                                                 \n",
            " vgg16 (Functional)          (None, 5, 5, 512)         14714688  \n",
            "                                                                 \n",
            " flatten (Flatten)           (None, 12800)             0         \n",
            "                                                                 \n",
            " dense (Dense)               (None, 256)               3277056   \n",
            "                                                                 \n",
            " dropout (Dropout)           (None, 256)               0         \n",
            "                                                                 \n",
            " dense_1 (Dense)             (None, 1)                 257       \n",
            "                                                                 \n",
            "=================================================================\n",
            "Total params: 17,992,001\n",
            "Trainable params: 10,356,737\n",
            "Non-trainable params: 7,635,264\n",
            "_________________________________________________________________\n"
          ]
        }
      ],
      "source": [
        "model.summary()"
      ]
    },
    {
      "cell_type": "markdown",
      "id": "f3bf7fb2",
      "metadata": {
        "id": "f3bf7fb2"
      },
      "source": [
        "Using only the convolutional layers from that model"
      ]
    },
    {
      "cell_type": "code",
      "execution_count": null,
      "id": "102506f6",
      "metadata": {
        "id": "102506f6"
      },
      "outputs": [],
      "source": [
        "# Selecting only the convolutional layers of our earlier model for extracting the features\n",
        "feature_extractor = keras.Model(model.inputs, model.layers[-3].output)\n",
        "feature_extractor.trainable = False"
      ]
    },
    {
      "cell_type": "markdown",
      "id": "d20e4182",
      "metadata": {
        "id": "d20e4182"
      },
      "source": [
        "Extracting the features from the "
      ]
    },
    {
      "cell_type": "code",
      "execution_count": null,
      "id": "07a7c491",
      "metadata": {
        "id": "07a7c491",
        "outputId": "366f32fc-f167-44d9-ddba-4795e3d4ab06"
      },
      "outputs": [
        {
          "name": "stdout",
          "output_type": "stream",
          "text": [
            "1/1 [==============================] - 7s 7s/step\n",
            "1/1 [==============================] - 7s 7s/step\n",
            "1/1 [==============================] - 7s 7s/step\n",
            "1/1 [==============================] - 7s 7s/step\n",
            "1/1 [==============================] - 7s 7s/step\n",
            "1/1 [==============================] - 8s 8s/step\n",
            "1/1 [==============================] - 8s 8s/step\n",
            "1/1 [==============================] - 8s 8s/step\n",
            "1/1 [==============================] - 8s 8s/step\n",
            "1/1 [==============================] - 6s 6s/step\n",
            "1/1 [==============================] - 8s 8s/step\n",
            "1/1 [==============================] - 8s 8s/step\n",
            "1/1 [==============================] - 3s 3s/step\n",
            "1/1 [==============================] - 8s 8s/step\n",
            "1/1 [==============================] - 8s 8s/step\n",
            "1/1 [==============================] - 8s 8s/step\n",
            "1/1 [==============================] - 1s 968ms/step\n"
          ]
        }
      ],
      "source": [
        "def get_features_and_labels(dataset):\n",
        "    all_features = []\n",
        "    all_labels = []\n",
        "    for images, labels in dataset:\n",
        "        features = feature_extractor.predict(images)\n",
        "        all_features.append(features)\n",
        "        all_labels.append(labels)\n",
        "    return np.concatenate(all_features), np.concatenate(all_labels)\n",
        "\n",
        "train_features, train_labels =  get_features_and_labels(train_dataset)\n",
        "val_features, val_labels =  get_features_and_labels(validation_dataset)\n",
        "test_features, test_labels =  get_features_and_labels(test_dataset)"
      ]
    },
    {
      "cell_type": "markdown",
      "id": "fe57bed0",
      "metadata": {
        "id": "fe57bed0"
      },
      "source": [
        "Defining the ANN layers"
      ]
    },
    {
      "cell_type": "code",
      "execution_count": null,
      "id": "7e5b94f1",
      "metadata": {
        "id": "7e5b94f1"
      },
      "outputs": [],
      "source": [
        "inputs = keras.Input(shape=(256))\n",
        "x = layers.Flatten()(inputs)\n",
        "x = layers.Dropout(0.5)(x)\n",
        "outputs = layers.Dense(1, activation=\"sigmoid\")(x)\n",
        "model = keras.Model(inputs, outputs)\n",
        "model.compile(loss=\"binary_crossentropy\",\n",
        "              optimizer=\"rmsprop\",\n",
        "              metrics=[\"accuracy\"])"
      ]
    },
    {
      "cell_type": "code",
      "execution_count": null,
      "id": "46e5d25c",
      "metadata": {
        "id": "46e5d25c",
        "outputId": "c11f2c07-1e7a-45db-b859-57e190c625a6"
      },
      "outputs": [
        {
          "name": "stdout",
          "output_type": "stream",
          "text": [
            "Epoch 1/100\n",
            "10/10 [==============================] - 1s 24ms/step - loss: 5.8600 - accuracy: 0.5852 - val_loss: 1.8670 - val_accuracy: 0.7662\n",
            "Epoch 2/100\n",
            "10/10 [==============================] - 0s 8ms/step - loss: 3.8911 - accuracy: 0.6720 - val_loss: 1.3485 - val_accuracy: 0.8312\n",
            "Epoch 3/100\n",
            "10/10 [==============================] - 0s 9ms/step - loss: 3.5561 - accuracy: 0.7106 - val_loss: 0.9784 - val_accuracy: 0.8571\n",
            "Epoch 4/100\n",
            "10/10 [==============================] - 0s 10ms/step - loss: 3.6381 - accuracy: 0.7170 - val_loss: 0.7183 - val_accuracy: 0.8831\n",
            "Epoch 5/100\n",
            "10/10 [==============================] - 0s 11ms/step - loss: 2.6559 - accuracy: 0.7814 - val_loss: 0.5868 - val_accuracy: 0.8961\n",
            "Epoch 6/100\n",
            "10/10 [==============================] - 0s 9ms/step - loss: 2.2018 - accuracy: 0.7910 - val_loss: 0.4557 - val_accuracy: 0.9091\n",
            "Epoch 7/100\n",
            "10/10 [==============================] - 0s 6ms/step - loss: 1.5280 - accuracy: 0.7974 - val_loss: 0.5822 - val_accuracy: 0.8961\n",
            "Epoch 8/100\n",
            "10/10 [==============================] - 0s 8ms/step - loss: 2.3252 - accuracy: 0.8103 - val_loss: 0.3182 - val_accuracy: 0.9351\n",
            "Epoch 9/100\n",
            "10/10 [==============================] - 0s 8ms/step - loss: 1.7979 - accuracy: 0.8264 - val_loss: 0.2294 - val_accuracy: 0.9481\n",
            "Epoch 10/100\n",
            "10/10 [==============================] - 0s 8ms/step - loss: 1.4266 - accuracy: 0.8392 - val_loss: 0.1910 - val_accuracy: 0.9610\n",
            "Epoch 11/100\n",
            "10/10 [==============================] - 0s 10ms/step - loss: 1.3287 - accuracy: 0.8939 - val_loss: 0.1366 - val_accuracy: 0.9610\n",
            "Epoch 12/100\n",
            "10/10 [==============================] - 0s 9ms/step - loss: 1.0940 - accuracy: 0.8810 - val_loss: 0.2113 - val_accuracy: 0.9610\n",
            "Epoch 13/100\n",
            "10/10 [==============================] - 0s 9ms/step - loss: 1.2718 - accuracy: 0.8585 - val_loss: 0.1693 - val_accuracy: 0.9610\n",
            "Epoch 14/100\n",
            "10/10 [==============================] - 0s 12ms/step - loss: 1.0234 - accuracy: 0.8875 - val_loss: 0.1279 - val_accuracy: 0.9740\n",
            "Epoch 15/100\n",
            "10/10 [==============================] - 0s 9ms/step - loss: 1.3311 - accuracy: 0.8553 - val_loss: 0.1315 - val_accuracy: 0.9740\n",
            "Epoch 16/100\n",
            "10/10 [==============================] - 0s 8ms/step - loss: 0.7650 - accuracy: 0.9132 - val_loss: 0.1380 - val_accuracy: 0.9740\n",
            "Epoch 17/100\n",
            "10/10 [==============================] - 0s 9ms/step - loss: 0.7032 - accuracy: 0.9164 - val_loss: 0.1570 - val_accuracy: 0.9740\n",
            "Epoch 18/100\n",
            "10/10 [==============================] - 0s 8ms/step - loss: 1.0049 - accuracy: 0.9003 - val_loss: 0.1479 - val_accuracy: 0.9740\n",
            "Epoch 19/100\n",
            "10/10 [==============================] - 0s 8ms/step - loss: 0.7889 - accuracy: 0.8971 - val_loss: 0.0942 - val_accuracy: 0.9740\n",
            "Epoch 20/100\n",
            "10/10 [==============================] - 0s 7ms/step - loss: 1.0328 - accuracy: 0.9003 - val_loss: 0.1399 - val_accuracy: 0.9740\n",
            "Epoch 21/100\n",
            "10/10 [==============================] - 0s 9ms/step - loss: 0.4710 - accuracy: 0.9357 - val_loss: 0.1047 - val_accuracy: 0.9740\n",
            "Epoch 22/100\n",
            "10/10 [==============================] - 0s 9ms/step - loss: 0.6101 - accuracy: 0.9035 - val_loss: 0.1045 - val_accuracy: 0.9740\n",
            "Epoch 23/100\n",
            "10/10 [==============================] - 0s 8ms/step - loss: 0.9170 - accuracy: 0.9003 - val_loss: 0.1154 - val_accuracy: 0.9740\n",
            "Epoch 24/100\n",
            "10/10 [==============================] - 0s 10ms/step - loss: 0.8714 - accuracy: 0.9068 - val_loss: 0.0802 - val_accuracy: 0.9740\n",
            "Epoch 25/100\n",
            "10/10 [==============================] - 0s 7ms/step - loss: 0.7889 - accuracy: 0.9100 - val_loss: 0.1245 - val_accuracy: 0.9740\n",
            "Epoch 26/100\n",
            "10/10 [==============================] - 0s 7ms/step - loss: 0.4290 - accuracy: 0.9293 - val_loss: 0.1258 - val_accuracy: 0.9740\n",
            "Epoch 27/100\n",
            "10/10 [==============================] - 0s 7ms/step - loss: 0.6057 - accuracy: 0.9164 - val_loss: 0.0981 - val_accuracy: 0.9740\n",
            "Epoch 28/100\n",
            "10/10 [==============================] - 0s 7ms/step - loss: 0.6100 - accuracy: 0.9260 - val_loss: 0.0863 - val_accuracy: 0.9740\n",
            "Epoch 29/100\n",
            "10/10 [==============================] - 0s 8ms/step - loss: 0.3262 - accuracy: 0.9325 - val_loss: 0.0311 - val_accuracy: 0.9870\n",
            "Epoch 30/100\n",
            "10/10 [==============================] - 0s 7ms/step - loss: 0.3636 - accuracy: 0.9228 - val_loss: 0.0635 - val_accuracy: 0.9740\n",
            "Epoch 31/100\n",
            "10/10 [==============================] - 0s 7ms/step - loss: 0.6883 - accuracy: 0.9228 - val_loss: 0.1020 - val_accuracy: 0.9740\n",
            "Epoch 32/100\n",
            "10/10 [==============================] - 0s 7ms/step - loss: 0.7677 - accuracy: 0.9196 - val_loss: 0.0792 - val_accuracy: 0.9740\n",
            "Epoch 33/100\n",
            "10/10 [==============================] - 0s 8ms/step - loss: 0.4053 - accuracy: 0.9421 - val_loss: 0.0635 - val_accuracy: 0.9740\n",
            "Epoch 34/100\n",
            "10/10 [==============================] - 0s 8ms/step - loss: 0.4134 - accuracy: 0.9357 - val_loss: 0.0478 - val_accuracy: 0.9740\n",
            "Epoch 35/100\n",
            "10/10 [==============================] - 0s 7ms/step - loss: 0.3774 - accuracy: 0.9550 - val_loss: 0.0623 - val_accuracy: 0.9740\n",
            "Epoch 36/100\n",
            "10/10 [==============================] - 0s 8ms/step - loss: 0.7118 - accuracy: 0.9164 - val_loss: 0.0290 - val_accuracy: 0.9740\n",
            "Epoch 37/100\n",
            "10/10 [==============================] - 0s 6ms/step - loss: 0.6358 - accuracy: 0.9260 - val_loss: 0.0718 - val_accuracy: 0.9740\n",
            "Epoch 38/100\n",
            "10/10 [==============================] - 0s 6ms/step - loss: 0.4181 - accuracy: 0.9421 - val_loss: 0.0515 - val_accuracy: 0.9740\n",
            "Epoch 39/100\n",
            "10/10 [==============================] - 0s 6ms/step - loss: 0.4507 - accuracy: 0.9421 - val_loss: 0.0532 - val_accuracy: 0.9740\n",
            "Epoch 40/100\n",
            "10/10 [==============================] - 0s 6ms/step - loss: 0.2425 - accuracy: 0.9550 - val_loss: 0.0380 - val_accuracy: 0.9740\n",
            "Epoch 41/100\n",
            "10/10 [==============================] - 0s 6ms/step - loss: 0.3280 - accuracy: 0.9421 - val_loss: 0.0522 - val_accuracy: 0.9740\n",
            "Epoch 42/100\n",
            "10/10 [==============================] - 0s 6ms/step - loss: 0.4754 - accuracy: 0.9421 - val_loss: 0.0403 - val_accuracy: 0.9740\n",
            "Epoch 43/100\n",
            "10/10 [==============================] - 0s 7ms/step - loss: 0.4186 - accuracy: 0.9357 - val_loss: 0.0110 - val_accuracy: 1.0000\n",
            "Epoch 44/100\n",
            "10/10 [==============================] - 0s 7ms/step - loss: 0.3794 - accuracy: 0.9518 - val_loss: 0.0062 - val_accuracy: 1.0000\n",
            "Epoch 45/100\n",
            "10/10 [==============================] - 0s 7ms/step - loss: 0.7888 - accuracy: 0.9164 - val_loss: 0.0085 - val_accuracy: 1.0000\n",
            "Epoch 46/100\n",
            "10/10 [==============================] - 0s 7ms/step - loss: 0.4539 - accuracy: 0.9389 - val_loss: 0.0160 - val_accuracy: 0.9870\n",
            "Epoch 47/100\n",
            "10/10 [==============================] - 0s 7ms/step - loss: 0.5386 - accuracy: 0.9325 - val_loss: 0.0113 - val_accuracy: 1.0000\n",
            "Epoch 48/100\n",
            "10/10 [==============================] - 0s 6ms/step - loss: 0.4074 - accuracy: 0.9357 - val_loss: 0.0206 - val_accuracy: 0.9870\n",
            "Epoch 49/100\n",
            "10/10 [==============================] - 0s 9ms/step - loss: 0.2546 - accuracy: 0.9486 - val_loss: 0.0441 - val_accuracy: 0.9740\n",
            "Epoch 50/100\n",
            "10/10 [==============================] - 0s 10ms/step - loss: 0.1509 - accuracy: 0.9678 - val_loss: 0.0535 - val_accuracy: 0.9740\n",
            "Epoch 51/100\n",
            "10/10 [==============================] - 0s 10ms/step - loss: 0.3457 - accuracy: 0.9486 - val_loss: 0.0154 - val_accuracy: 1.0000\n",
            "Epoch 52/100\n",
            "10/10 [==============================] - 0s 10ms/step - loss: 0.2282 - accuracy: 0.9582 - val_loss: 0.0150 - val_accuracy: 1.0000\n",
            "Epoch 53/100\n",
            "10/10 [==============================] - 0s 6ms/step - loss: 0.3638 - accuracy: 0.9421 - val_loss: 0.0144 - val_accuracy: 1.0000\n",
            "Epoch 54/100\n",
            "10/10 [==============================] - 0s 8ms/step - loss: 0.3049 - accuracy: 0.9614 - val_loss: 0.0070 - val_accuracy: 1.0000\n",
            "Epoch 55/100\n",
            "10/10 [==============================] - 0s 10ms/step - loss: 0.3472 - accuracy: 0.9550 - val_loss: 0.0104 - val_accuracy: 1.0000\n",
            "Epoch 56/100\n",
            "10/10 [==============================] - 0s 8ms/step - loss: 0.3575 - accuracy: 0.9486 - val_loss: 0.0165 - val_accuracy: 0.9870\n",
            "Epoch 57/100\n",
            "10/10 [==============================] - 0s 8ms/step - loss: 0.2495 - accuracy: 0.9614 - val_loss: 0.0133 - val_accuracy: 0.9870\n",
            "Epoch 58/100\n"
          ]
        },
        {
          "name": "stdout",
          "output_type": "stream",
          "text": [
            "10/10 [==============================] - 0s 9ms/step - loss: 0.4856 - accuracy: 0.9518 - val_loss: 0.0147 - val_accuracy: 0.9870\n",
            "Epoch 59/100\n",
            "10/10 [==============================] - 0s 6ms/step - loss: 0.1304 - accuracy: 0.9678 - val_loss: 0.0121 - val_accuracy: 1.0000\n",
            "Epoch 60/100\n",
            "10/10 [==============================] - 0s 7ms/step - loss: 0.1697 - accuracy: 0.9582 - val_loss: 0.0152 - val_accuracy: 0.9870\n",
            "Epoch 61/100\n",
            "10/10 [==============================] - 0s 6ms/step - loss: 0.2728 - accuracy: 0.9518 - val_loss: 0.0240 - val_accuracy: 0.9870\n",
            "Epoch 62/100\n",
            "10/10 [==============================] - 0s 7ms/step - loss: 0.2935 - accuracy: 0.9453 - val_loss: 0.0122 - val_accuracy: 1.0000\n",
            "Epoch 63/100\n",
            "10/10 [==============================] - 0s 7ms/step - loss: 0.2597 - accuracy: 0.9614 - val_loss: 0.0123 - val_accuracy: 0.9870\n",
            "Epoch 64/100\n",
            "10/10 [==============================] - 0s 6ms/step - loss: 0.2458 - accuracy: 0.9550 - val_loss: 0.0176 - val_accuracy: 0.9870\n",
            "Epoch 65/100\n",
            "10/10 [==============================] - 0s 6ms/step - loss: 0.1314 - accuracy: 0.9646 - val_loss: 0.0337 - val_accuracy: 0.9740\n",
            "Epoch 66/100\n",
            "10/10 [==============================] - 0s 7ms/step - loss: 0.1980 - accuracy: 0.9582 - val_loss: 0.0143 - val_accuracy: 0.9870\n",
            "Epoch 67/100\n",
            "10/10 [==============================] - 0s 7ms/step - loss: 0.2537 - accuracy: 0.9325 - val_loss: 0.0538 - val_accuracy: 0.9740\n",
            "Epoch 68/100\n",
            "10/10 [==============================] - 0s 7ms/step - loss: 0.2976 - accuracy: 0.9550 - val_loss: 0.0248 - val_accuracy: 0.9870\n",
            "Epoch 69/100\n",
            "10/10 [==============================] - 0s 7ms/step - loss: 0.1920 - accuracy: 0.9646 - val_loss: 0.0346 - val_accuracy: 0.9740\n",
            "Epoch 70/100\n",
            "10/10 [==============================] - 0s 7ms/step - loss: 0.2581 - accuracy: 0.9550 - val_loss: 0.0232 - val_accuracy: 0.9870\n",
            "Epoch 71/100\n",
            "10/10 [==============================] - 0s 6ms/step - loss: 0.2051 - accuracy: 0.9518 - val_loss: 0.0130 - val_accuracy: 0.9870\n",
            "Epoch 72/100\n",
            "10/10 [==============================] - 0s 6ms/step - loss: 0.1655 - accuracy: 0.9711 - val_loss: 0.0269 - val_accuracy: 0.9870\n",
            "Epoch 73/100\n",
            "10/10 [==============================] - 0s 7ms/step - loss: 0.2664 - accuracy: 0.9614 - val_loss: 0.0186 - val_accuracy: 0.9870\n",
            "Epoch 74/100\n",
            "10/10 [==============================] - 0s 6ms/step - loss: 0.2865 - accuracy: 0.9421 - val_loss: 0.0090 - val_accuracy: 1.0000\n",
            "Epoch 75/100\n",
            "10/10 [==============================] - 0s 5ms/step - loss: 0.2936 - accuracy: 0.9453 - val_loss: 0.0123 - val_accuracy: 1.0000\n",
            "Epoch 76/100\n",
            "10/10 [==============================] - 0s 6ms/step - loss: 0.1696 - accuracy: 0.9711 - val_loss: 0.0146 - val_accuracy: 0.9870\n",
            "Epoch 77/100\n",
            "10/10 [==============================] - 0s 8ms/step - loss: 0.1011 - accuracy: 0.9711 - val_loss: 0.0275 - val_accuracy: 0.9740\n",
            "Epoch 78/100\n",
            "10/10 [==============================] - 0s 8ms/step - loss: 0.2296 - accuracy: 0.9646 - val_loss: 0.0126 - val_accuracy: 0.9870\n",
            "Epoch 79/100\n",
            "10/10 [==============================] - 0s 7ms/step - loss: 0.1783 - accuracy: 0.9453 - val_loss: 0.0205 - val_accuracy: 0.9870\n",
            "Epoch 80/100\n",
            "10/10 [==============================] - 0s 7ms/step - loss: 0.2808 - accuracy: 0.9518 - val_loss: 0.0238 - val_accuracy: 0.9870\n",
            "Epoch 81/100\n",
            "10/10 [==============================] - 0s 6ms/step - loss: 0.2497 - accuracy: 0.9582 - val_loss: 0.0334 - val_accuracy: 0.9740\n",
            "Epoch 82/100\n",
            "10/10 [==============================] - 0s 6ms/step - loss: 0.1007 - accuracy: 0.9743 - val_loss: 0.0298 - val_accuracy: 0.9870\n",
            "Epoch 83/100\n",
            "10/10 [==============================] - 0s 7ms/step - loss: 0.2557 - accuracy: 0.9518 - val_loss: 0.0176 - val_accuracy: 0.9870\n",
            "Epoch 84/100\n",
            "10/10 [==============================] - 0s 8ms/step - loss: 0.3352 - accuracy: 0.9582 - val_loss: 0.0414 - val_accuracy: 0.9740\n",
            "Epoch 85/100\n",
            "10/10 [==============================] - 0s 7ms/step - loss: 0.0977 - accuracy: 0.9743 - val_loss: 0.0207 - val_accuracy: 0.9870\n",
            "Epoch 86/100\n",
            "10/10 [==============================] - 0s 6ms/step - loss: 0.3250 - accuracy: 0.9518 - val_loss: 0.0169 - val_accuracy: 0.9870\n",
            "Epoch 87/100\n",
            "10/10 [==============================] - 0s 6ms/step - loss: 0.2628 - accuracy: 0.9550 - val_loss: 0.0361 - val_accuracy: 0.9740\n",
            "Epoch 88/100\n",
            "10/10 [==============================] - 0s 7ms/step - loss: 0.1865 - accuracy: 0.9678 - val_loss: 0.0183 - val_accuracy: 0.9870\n",
            "Epoch 89/100\n",
            "10/10 [==============================] - 0s 10ms/step - loss: 0.2768 - accuracy: 0.9486 - val_loss: 0.0237 - val_accuracy: 0.9870\n",
            "Epoch 90/100\n",
            "10/10 [==============================] - 0s 7ms/step - loss: 0.1225 - accuracy: 0.9678 - val_loss: 0.0279 - val_accuracy: 0.9870\n",
            "Epoch 91/100\n",
            "10/10 [==============================] - 0s 6ms/step - loss: 0.2842 - accuracy: 0.9550 - val_loss: 0.0260 - val_accuracy: 0.9870\n",
            "Epoch 92/100\n",
            "10/10 [==============================] - 0s 7ms/step - loss: 0.2145 - accuracy: 0.9678 - val_loss: 0.0201 - val_accuracy: 0.9870\n",
            "Epoch 93/100\n",
            "10/10 [==============================] - 0s 8ms/step - loss: 0.1917 - accuracy: 0.9678 - val_loss: 0.0226 - val_accuracy: 0.9870\n",
            "Epoch 94/100\n",
            "10/10 [==============================] - 0s 7ms/step - loss: 0.0738 - accuracy: 0.9775 - val_loss: 0.0183 - val_accuracy: 0.9870\n",
            "Epoch 95/100\n",
            "10/10 [==============================] - 0s 6ms/step - loss: 0.1784 - accuracy: 0.9646 - val_loss: 0.0497 - val_accuracy: 0.9740\n",
            "Epoch 96/100\n",
            "10/10 [==============================] - 0s 6ms/step - loss: 0.3529 - accuracy: 0.9582 - val_loss: 0.0125 - val_accuracy: 0.9870\n",
            "Epoch 97/100\n",
            "10/10 [==============================] - 0s 6ms/step - loss: 0.1598 - accuracy: 0.9614 - val_loss: 0.0127 - val_accuracy: 0.9870\n",
            "Epoch 98/100\n",
            "10/10 [==============================] - 0s 6ms/step - loss: 0.0923 - accuracy: 0.9711 - val_loss: 0.0127 - val_accuracy: 1.0000\n",
            "Epoch 99/100\n",
            "10/10 [==============================] - 0s 8ms/step - loss: 0.1311 - accuracy: 0.9678 - val_loss: 0.0172 - val_accuracy: 0.9870\n",
            "Epoch 100/100\n",
            "10/10 [==============================] - 0s 7ms/step - loss: 0.1507 - accuracy: 0.9614 - val_loss: 0.0118 - val_accuracy: 1.0000\n"
          ]
        }
      ],
      "source": [
        "callbacks = [\n",
        "    keras.callbacks.ModelCheckpoint(\n",
        "      filepath=\"lab_vs_dob.keras\",\n",
        "      save_best_only=True)\n",
        "]\n",
        "history = model.fit(\n",
        "    train_features, train_labels,\n",
        "    epochs=100,\n",
        "    validation_data=(val_features, val_labels),\n",
        "    callbacks=callbacks)\n",
        "\n"
      ]
    },
    {
      "cell_type": "code",
      "execution_count": null,
      "id": "afe7daf8",
      "metadata": {
        "id": "afe7daf8",
        "outputId": "c9ef03a0-b432-4e04-ed67-bcf2967232fd"
      },
      "outputs": [
        {
          "data": {
            "image/png": "[encoded data removed]",
            "text/plain": [
              "<Figure size 640x480 with 1 Axes>"
            ]
          },
          "metadata": {},
          "output_type": "display_data"
        },
        {
          "data": {
            "image/png": "[encoded data removed]",
            "text/plain": [
              "<Figure size 640x480 with 1 Axes>"
            ]
          },
          "metadata": {},
          "output_type": "display_data"
        }
      ],
      "source": [
        "import matplotlib.pyplot as plt\n",
        "acc = history.history[\"accuracy\"]\n",
        "val_acc = history.history[\"val_accuracy\"]\n",
        "loss = history.history[\"loss\"]\n",
        "val_loss = history.history[\"val_loss\"]\n",
        "epochs = range(1, len(acc) + 1)\n",
        "plt.plot(epochs, acc, \"bo\", label=\"Training accuracy\")\n",
        "plt.plot(epochs, val_acc, \"b\", label=\"Validation accuracy\")\n",
        "plt.title(\"Training and validation accuracy\")\n",
        "plt.legend()\n",
        "plt.figure()\n",
        "plt.plot(epochs, loss, \"bo\", label=\"Training loss\")\n",
        "plt.plot(epochs, val_loss, \"b\", label=\"Validation loss\")\n",
        "plt.title(\"Training and validation loss\")\n",
        "plt.legend()\n",
        "plt.show()"
      ]
    },
    {
      "cell_type": "code",
      "execution_count": null,
      "id": "e06bc01e",
      "metadata": {
        "id": "e06bc01e",
        "outputId": "34b49e65-5a05-41b6-9be1-f90ecd69c038"
      },
      "outputs": [
        {
          "name": "stdout",
          "output_type": "stream",
          "text": [
            "4/4 [==============================] - 0s 3ms/step - loss: 0.0664 - accuracy: 0.9900\n",
            "Test accuracy: 0.990\n"
          ]
        }
      ],
      "source": [
        "# model = keras.models.load_model(\"dogs_vs_cats.keras\")\n",
        "test_loss, test_acc = model.evaluate(test_features, test_labels)\n",
        "print(f\"Test accuracy: {test_acc:.3f}\")"
      ]
    },
    {
      "cell_type": "code",
      "execution_count": null,
      "id": "856fec16",
      "metadata": {
        "id": "856fec16",
        "outputId": "6e43c58c-6702-4f24-b73b-743e6cc26b15"
      },
      "outputs": [
        {
          "name": "stdout",
          "output_type": "stream",
          "text": [
            "Model: \"model_15\"\n",
            "_________________________________________________________________\n",
            " Layer (type)                Output Shape              Param #   \n",
            "=================================================================\n",
            " input_11 (InputLayer)       [(None, 256)]             0         \n",
            "                                                                 \n",
            " flatten_9 (Flatten)         (None, 256)               0         \n",
            "                                                                 \n",
            " dropout_9 (Dropout)         (None, 256)               0         \n",
            "                                                                 \n",
            " dense_16 (Dense)            (None, 1)                 257       \n",
            "                                                                 \n",
            "=================================================================\n",
            "Total params: 257\n",
            "Trainable params: 257\n",
            "Non-trainable params: 0\n",
            "_________________________________________________________________\n"
          ]
        }
      ],
      "source": [
        "model.summary()"
      ]
    },
    {
      "cell_type": "markdown",
      "source": [
        "### Conclusion\n",
        "\n",
        "To conclude, we can see that the model we have built is fairly robust and performs well on the validation and the testing data. With more training data, we can make the model a lot more robust to distinguish these two dogs in the real world. And we need not train the model for such a high number of epochs."
      ],
      "metadata": {
        "id": "dP3Y7PAbrT0w"
      },
      "id": "dP3Y7PAbrT0w"
    }
  ],
  "metadata": {
    "kernelspec": {
      "display_name": "Python 3 (ipykernel)",
      "language": "python",
      "name": "python3"
    },
    "language_info": {
      "codemirror_mode": {
        "name": "ipython",
        "version": 3
      },
      "file_extension": ".py",
      "mimetype": "text/x-python",
      "name": "python",
      "nbconvert_exporter": "python",
      "pygments_lexer": "ipython3",
      "version": "3.8.13"
    },
    "colab": {
      "provenance": []
    }
  },
  "nbformat": 4,
  "nbformat_minor": 5
}